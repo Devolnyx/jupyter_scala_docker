{
 "cells": [
  {
   "cell_type": "code",
   "execution_count": 26,
   "id": "8808257b",
   "metadata": {},
   "outputs": [
    {
     "name": "stdout",
     "output_type": "stream",
     "text": [
      "Python 3.8.17\n"
     ]
    }
   ],
   "source": [
    "import os\n",
    "import glob\n",
    "import findspark\n",
    "import pandas as pd\n",
    "findspark.init()\n",
    "findspark.find()\n",
    "\n",
    "os.environ['HADOOP_HOME'] = 'C:\\\\apps\\\\opt\\\\spark-3.2.4-bin-hadoop2.7'\n",
    "os.environ['SPARK_HOME'] = 'C:\\\\apps\\\\opt\\\\spark-3.2.4-bin-hadoop2.7'\n",
    "\n",
    "from pyspark.sql import SparkSession, Window\n",
    "from pyspark.sql import functions as F\n",
    "from pyspark.sql import types as T\n",
    "\n",
    "!python --version"
   ]
  },
  {
   "cell_type": "markdown",
   "id": "01168b23",
   "metadata": {},
   "source": [
    "- **Широковещательный хеш (Broadcast Hash)**, где один из двух входных наборов данных транслируется всем исполнителям, для каждого из которых строится хеш-таблица. Далее каждый раздел не транслируемого входного набора данных присоединяется независимо к другому набору данных, доступному в виде локальной хеш-таблицы. Это не требует перетасовки и является наиболее эффективным, однако исполнители должны иметь достаточно памяти для размещения транслируемого набора данных. Поэтому на практике Apache Spark избегает этого механизма, если оба набора входных данных превышают настраиваемый порог.\n",
    "- **Перемешанный хеш (Shuffle Hash)**, где два набора входных данных выравниваются по выбранной схеме разделения (партиционирования). Если один или оба набора входных данных не соответствуют выбранной схеме разделения, операция перемешивания выполняется перед фактическим соединением для достижения соответствия. После того, как оба набора входных данных соответствуют выбранному выходному разделению, Shuffle Hash выполняет соединение для каждого выходного раздела, используя стандартный подход Hash Join. При этом для каждого выходного раздела хеш-таблица сначала создается из меньшего входного набора данных, а затем соответствующий раздел большего входного набора данных присоединяется к построенной хеш-таблице. *По сравнению с Broadcast Hash Join, требования к памяти исполнителей меньше в случае Shuffle Hash Join*, т.к. хеш-таблица строится только на определенном разделе меньшего набора входных данных. Поэтому при большом количестве выходных разделов и исполнителей с достаточным объемом памяти, Shuffle Hash Join будет весьма эффективным. Однако, если Spark потребуется выполнить дополнительную операцию перемешивания для одного или обоих входных наборов для соответствия разделению выходных данных, предпочтительнее ранее рассмотренный Broadcast Hash Join.\n",
    "- **Сортировка через слияние (Sort Merge)**, которая похожа на Shuffle Hash Join. Здесь также два набора входных данных выравниваются по выбранной схеме разделения выходных данных. Если один из них или оба не соответствуют выбранной схеме разделения, операция перемешивания выполняется до фактического соединения, чтобы обеспечить нужное соответствие. После того, как соответствие выбранному выходному разделению для обоих входных наборов данных достигнуто, Sort Merge выполняет операцию соединения для каждого выходного раздела, используя стандартный подход Sort Merge Join. Он вычислительно менее эффективен по сравнению с Shuffle Hash Join и Broadcast Hash Join однако требования к памяти исполнителей значительно ниже. Как и Shuffle Hash Join, если входные наборы данных не соответствуют желаемому разделению выходных данных, то операция перемешивания входов увеличивает накладные расходы.\n",
    "- **Декартово соединение (Cartesian)**, которое используется исключительно для выполнения перекрестного соединения между двумя наборами входных данных. Количество выходных разделов всегда равно произведению количества разделов входного набора данных. Каждый выходной раздел сопоставляется с уникальной парой разделов, каждая пара состоит из одного раздела одного и другого раздела второго набора данных. Для каждого из выходных разделов результат вычисляется как декартово произведение данных из двух входных разделов, сопоставленных с выходным разделом. Недостаток этого механизма в том, что Cartesian Join увеличивает количество выходных разделов. Однако, он является единственным, если требуется Cross- соединение.\n",
    "- **Широковещательное соединение вложенного цикла (Broadcast Nested Loop)**, где один из входных наборов данных транслируется всем исполнителям. После этого каждый раздел не транслируемого набора входных данных присоединяется к транслируемому набору с использованием стандартной Join-процедуры с вложенным циклом, чтобы произвести объединенные выходные данные. С вычислительной точки зрения Broadcast Nested Loop Join наименее эффективен, поскольку для сравнения двух наборов данных выполняется вложенный цикл. Кроме того, это требует большого объема памяти, т.к. один из наборов входных данных должен транслироваться всем исполнителям.\n",
    "\n",
    "\n",
    "\n",
    "https://bigdataschool.ru/blog/broadcast-join-in-spark-sql-and-other-hints-example.html"
   ]
  },
  {
   "cell_type": "code",
   "execution_count": 3,
   "id": "ffd9e90c",
   "metadata": {},
   "outputs": [],
   "source": [
    "spark = SparkSession.builder.appName('APP').config('hive.exec.dynamic.partition.mode', 'nonstrict').enableHiveSupport().getOrCreate()"
   ]
  },
  {
   "cell_type": "code",
   "execution_count": 44,
   "id": "02a992e7",
   "metadata": {},
   "outputs": [],
   "source": [
    "df = spark.read.option(\"header\", True).csv(\"Pokemon_full.csv\")"
   ]
  },
  {
   "cell_type": "code",
   "execution_count": 45,
   "id": "76f5ed96",
   "metadata": {},
   "outputs": [
    {
     "data": {
      "text/plain": [
       "10"
      ]
     },
     "execution_count": 45,
     "metadata": {},
     "output_type": "execute_result"
    }
   ],
   "source": [
    "df.repartition(10).rdd.getNumPartitions()"
   ]
  },
  {
   "cell_type": "code",
   "execution_count": 65,
   "id": "5a6dd295",
   "metadata": {},
   "outputs": [],
   "source": [
    "df_agg = df.groupby('type').count()"
   ]
  },
  {
   "cell_type": "code",
   "execution_count": 66,
   "id": "db74ad87",
   "metadata": {},
   "outputs": [],
   "source": [
    "columns = ['hp', 'attack', 'defense', 'sp atk', 'sp def','speed']\n",
    "\n",
    "for col in columns:\n",
    "    df = df.withColumn(col, F.col(col)+1)"
   ]
  },
  {
   "cell_type": "code",
   "execution_count": 74,
   "id": "56d7e4af",
   "metadata": {},
   "outputs": [
    {
     "name": "stdout",
     "output_type": "stream",
     "text": [
      "== Parsed Logical Plan ==\n",
      "'Project [name#439, pokedex id#440, height#441, weight#442, type#443, secundary type#444, hp#740, attack#753, defense#766, sp atk#779, sp def#792, ('speed + 1) AS speed#805]\n",
      "+- Project [name#439, pokedex id#440, height#441, weight#442, type#443, secundary type#444, hp#740, attack#753, defense#766, sp atk#779, (cast(sp def#449 as double) + cast(1 as double)) AS sp def#792, speed#450]\n",
      "   +- Project [name#439, pokedex id#440, height#441, weight#442, type#443, secundary type#444, hp#740, attack#753, defense#766, (cast(sp atk#448 as double) + cast(1 as double)) AS sp atk#779, sp def#449, speed#450]\n",
      "      +- Project [name#439, pokedex id#440, height#441, weight#442, type#443, secundary type#444, hp#740, attack#753, (cast(defense#447 as double) + cast(1 as double)) AS defense#766, sp atk#448, sp def#449, speed#450]\n",
      "         +- Project [name#439, pokedex id#440, height#441, weight#442, type#443, secundary type#444, hp#740, (cast(attack#446 as double) + cast(1 as double)) AS attack#753, defense#447, sp atk#448, sp def#449, speed#450]\n",
      "            +- Project [name#439, pokedex id#440, height#441, weight#442, type#443, secundary type#444, (cast(hp#445 as double) + cast(1 as double)) AS hp#740, attack#446, defense#447, sp atk#448, sp def#449, speed#450]\n",
      "               +- Relation [name#439,pokedex id#440,height#441,weight#442,type#443,secundary type#444,hp#445,attack#446,defense#447,sp atk#448,sp def#449,speed#450] csv\n",
      "\n",
      "== Analyzed Logical Plan ==\n",
      "name: string, pokedex id: string, height: string, weight: string, type: string, secundary type: string, hp: double, attack: double, defense: double, sp atk: double, sp def: double, speed: double\n",
      "Project [name#439, pokedex id#440, height#441, weight#442, type#443, secundary type#444, hp#740, attack#753, defense#766, sp atk#779, sp def#792, (cast(speed#450 as double) + cast(1 as double)) AS speed#805]\n",
      "+- Project [name#439, pokedex id#440, height#441, weight#442, type#443, secundary type#444, hp#740, attack#753, defense#766, sp atk#779, (cast(sp def#449 as double) + cast(1 as double)) AS sp def#792, speed#450]\n",
      "   +- Project [name#439, pokedex id#440, height#441, weight#442, type#443, secundary type#444, hp#740, attack#753, defense#766, (cast(sp atk#448 as double) + cast(1 as double)) AS sp atk#779, sp def#449, speed#450]\n",
      "      +- Project [name#439, pokedex id#440, height#441, weight#442, type#443, secundary type#444, hp#740, attack#753, (cast(defense#447 as double) + cast(1 as double)) AS defense#766, sp atk#448, sp def#449, speed#450]\n",
      "         +- Project [name#439, pokedex id#440, height#441, weight#442, type#443, secundary type#444, hp#740, (cast(attack#446 as double) + cast(1 as double)) AS attack#753, defense#447, sp atk#448, sp def#449, speed#450]\n",
      "            +- Project [name#439, pokedex id#440, height#441, weight#442, type#443, secundary type#444, (cast(hp#445 as double) + cast(1 as double)) AS hp#740, attack#446, defense#447, sp atk#448, sp def#449, speed#450]\n",
      "               +- Relation [name#439,pokedex id#440,height#441,weight#442,type#443,secundary type#444,hp#445,attack#446,defense#447,sp atk#448,sp def#449,speed#450] csv\n",
      "\n",
      "== Optimized Logical Plan ==\n",
      "Project [name#439, pokedex id#440, height#441, weight#442, type#443, secundary type#444, (cast(hp#445 as double) + 1.0) AS hp#740, (cast(attack#446 as double) + 1.0) AS attack#753, (cast(defense#447 as double) + 1.0) AS defense#766, (cast(sp atk#448 as double) + 1.0) AS sp atk#779, (cast(sp def#449 as double) + 1.0) AS sp def#792, (cast(speed#450 as double) + 1.0) AS speed#805]\n",
      "+- Relation [name#439,pokedex id#440,height#441,weight#442,type#443,secundary type#444,hp#445,attack#446,defense#447,sp atk#448,sp def#449,speed#450] csv\n",
      "\n",
      "== Physical Plan ==\n",
      "*(1) Project [name#439, pokedex id#440, height#441, weight#442, type#443, secundary type#444, (cast(hp#445 as double) + 1.0) AS hp#740, (cast(attack#446 as double) + 1.0) AS attack#753, (cast(defense#447 as double) + 1.0) AS defense#766, (cast(sp atk#448 as double) + 1.0) AS sp atk#779, (cast(sp def#449 as double) + 1.0) AS sp def#792, (cast(speed#450 as double) + 1.0) AS speed#805]\n",
      "+- FileScan csv [name#439,pokedex id#440,height#441,weight#442,type#443,secundary type#444,hp#445,attack#446,defense#447,sp atk#448,sp def#449,speed#450] Batched: false, DataFilters: [], Format: CSV, Location: InMemoryFileIndex(1 paths)[file:/C:/Users/Катюня/PycharmProjects/Streaming/Pokemon_full.csv], PartitionFilters: [], PushedFilters: [], ReadSchema: struct<name:string,pokedex id:string,height:string,weight:string,type:string,secundary type:strin...\n",
      "\n"
     ]
    }
   ],
   "source": [
    "df.explain(True)"
   ]
  },
  {
   "cell_type": "code",
   "execution_count": 70,
   "id": "8cf1a18e",
   "metadata": {},
   "outputs": [],
   "source": [
    "dfc = df.localCheckpoint()"
   ]
  },
  {
   "cell_type": "code",
   "execution_count": 72,
   "id": "0d314cbf",
   "metadata": {},
   "outputs": [
    {
     "name": "stdout",
     "output_type": "stream",
     "text": [
      "== Parsed Logical Plan ==\n",
      "LogicalRDD [name#439, pokedex id#440, height#441, weight#442, type#443, secundary type#444, hp#740, attack#753, defense#766, sp atk#779, sp def#792, speed#805], false\n",
      "\n",
      "== Analyzed Logical Plan ==\n",
      "name: string, pokedex id: string, height: string, weight: string, type: string, secundary type: string, hp: double, attack: double, defense: double, sp atk: double, sp def: double, speed: double\n",
      "LogicalRDD [name#439, pokedex id#440, height#441, weight#442, type#443, secundary type#444, hp#740, attack#753, defense#766, sp atk#779, sp def#792, speed#805], false\n",
      "\n",
      "== Optimized Logical Plan ==\n",
      "LogicalRDD [name#439, pokedex id#440, height#441, weight#442, type#443, secundary type#444, hp#740, attack#753, defense#766, sp atk#779, sp def#792, speed#805], false\n",
      "\n",
      "== Physical Plan ==\n",
      "*(1) Scan ExistingRDD[name#439,pokedex id#440,height#441,weight#442,type#443,secundary type#444,hp#740,attack#753,defense#766,sp atk#779,sp def#792,speed#805]\n",
      "\n"
     ]
    }
   ],
   "source": [
    "dfc.explain(True)"
   ]
  },
  {
   "cell_type": "code",
   "execution_count": 86,
   "id": "547e0018",
   "metadata": {},
   "outputs": [],
   "source": [
    "windowType = Window.partitionBy(\"type\")\n",
    "#windowType = Window.partitionBy()\n",
    "\n",
    "result = df.withColumn(\"type_count\", F.count(\"*\").over(windowType))\n",
    "result_from_cp = dfc.withColumn(\"type_count\", F.count(\"*\").over(windowType))"
   ]
  },
  {
   "cell_type": "code",
   "execution_count": 87,
   "id": "64dce57b",
   "metadata": {},
   "outputs": [
    {
     "name": "stdout",
     "output_type": "stream",
     "text": [
      "== Parsed Logical Plan ==\n",
      "'Project [name#439, pokedex id#440, height#441, weight#442, type#443, secundary type#444, hp#740, attack#753, defense#766, sp atk#779, sp def#792, speed#805, count(1) windowspecdefinition('type, unspecifiedframe$()) AS type_count#968]\n",
      "+- Project [name#439, pokedex id#440, height#441, weight#442, type#443, secundary type#444, hp#740, attack#753, defense#766, sp atk#779, sp def#792, (cast(speed#450 as double) + cast(1 as double)) AS speed#805]\n",
      "   +- Project [name#439, pokedex id#440, height#441, weight#442, type#443, secundary type#444, hp#740, attack#753, defense#766, sp atk#779, (cast(sp def#449 as double) + cast(1 as double)) AS sp def#792, speed#450]\n",
      "      +- Project [name#439, pokedex id#440, height#441, weight#442, type#443, secundary type#444, hp#740, attack#753, defense#766, (cast(sp atk#448 as double) + cast(1 as double)) AS sp atk#779, sp def#449, speed#450]\n",
      "         +- Project [name#439, pokedex id#440, height#441, weight#442, type#443, secundary type#444, hp#740, attack#753, (cast(defense#447 as double) + cast(1 as double)) AS defense#766, sp atk#448, sp def#449, speed#450]\n",
      "            +- Project [name#439, pokedex id#440, height#441, weight#442, type#443, secundary type#444, hp#740, (cast(attack#446 as double) + cast(1 as double)) AS attack#753, defense#447, sp atk#448, sp def#449, speed#450]\n",
      "               +- Project [name#439, pokedex id#440, height#441, weight#442, type#443, secundary type#444, (cast(hp#445 as double) + cast(1 as double)) AS hp#740, attack#446, defense#447, sp atk#448, sp def#449, speed#450]\n",
      "                  +- Relation [name#439,pokedex id#440,height#441,weight#442,type#443,secundary type#444,hp#445,attack#446,defense#447,sp atk#448,sp def#449,speed#450] csv\n",
      "\n",
      "== Analyzed Logical Plan ==\n",
      "name: string, pokedex id: string, height: string, weight: string, type: string, secundary type: string, hp: double, attack: double, defense: double, sp atk: double, sp def: double, speed: double, type_count: bigint\n",
      "Project [name#439, pokedex id#440, height#441, weight#442, type#443, secundary type#444, hp#740, attack#753, defense#766, sp atk#779, sp def#792, speed#805, type_count#968L]\n",
      "+- Project [name#439, pokedex id#440, height#441, weight#442, type#443, secundary type#444, hp#740, attack#753, defense#766, sp atk#779, sp def#792, speed#805, type_count#968L, type_count#968L]\n",
      "   +- Window [count(1) windowspecdefinition(type#443, specifiedwindowframe(RowFrame, unboundedpreceding$(), unboundedfollowing$())) AS type_count#968L], [type#443]\n",
      "      +- Project [name#439, pokedex id#440, height#441, weight#442, type#443, secundary type#444, hp#740, attack#753, defense#766, sp atk#779, sp def#792, speed#805]\n",
      "         +- Project [name#439, pokedex id#440, height#441, weight#442, type#443, secundary type#444, hp#740, attack#753, defense#766, sp atk#779, sp def#792, (cast(speed#450 as double) + cast(1 as double)) AS speed#805]\n",
      "            +- Project [name#439, pokedex id#440, height#441, weight#442, type#443, secundary type#444, hp#740, attack#753, defense#766, sp atk#779, (cast(sp def#449 as double) + cast(1 as double)) AS sp def#792, speed#450]\n",
      "               +- Project [name#439, pokedex id#440, height#441, weight#442, type#443, secundary type#444, hp#740, attack#753, defense#766, (cast(sp atk#448 as double) + cast(1 as double)) AS sp atk#779, sp def#449, speed#450]\n",
      "                  +- Project [name#439, pokedex id#440, height#441, weight#442, type#443, secundary type#444, hp#740, attack#753, (cast(defense#447 as double) + cast(1 as double)) AS defense#766, sp atk#448, sp def#449, speed#450]\n",
      "                     +- Project [name#439, pokedex id#440, height#441, weight#442, type#443, secundary type#444, hp#740, (cast(attack#446 as double) + cast(1 as double)) AS attack#753, defense#447, sp atk#448, sp def#449, speed#450]\n",
      "                        +- Project [name#439, pokedex id#440, height#441, weight#442, type#443, secundary type#444, (cast(hp#445 as double) + cast(1 as double)) AS hp#740, attack#446, defense#447, sp atk#448, sp def#449, speed#450]\n",
      "                           +- Relation [name#439,pokedex id#440,height#441,weight#442,type#443,secundary type#444,hp#445,attack#446,defense#447,sp atk#448,sp def#449,speed#450] csv\n",
      "\n",
      "== Optimized Logical Plan ==\n",
      "Window [count(1) windowspecdefinition(type#443, specifiedwindowframe(RowFrame, unboundedpreceding$(), unboundedfollowing$())) AS type_count#968L], [type#443]\n",
      "+- Project [name#439, pokedex id#440, height#441, weight#442, type#443, secundary type#444, (cast(hp#445 as double) + 1.0) AS hp#740, (cast(attack#446 as double) + 1.0) AS attack#753, (cast(defense#447 as double) + 1.0) AS defense#766, (cast(sp atk#448 as double) + 1.0) AS sp atk#779, (cast(sp def#449 as double) + 1.0) AS sp def#792, (cast(speed#450 as double) + 1.0) AS speed#805]\n",
      "   +- Relation [name#439,pokedex id#440,height#441,weight#442,type#443,secundary type#444,hp#445,attack#446,defense#447,sp atk#448,sp def#449,speed#450] csv\n",
      "\n",
      "== Physical Plan ==\n",
      "AdaptiveSparkPlan isFinalPlan=false\n",
      "+- Window [count(1) windowspecdefinition(type#443, specifiedwindowframe(RowFrame, unboundedpreceding$(), unboundedfollowing$())) AS type_count#968L], [type#443]\n",
      "   +- Sort [type#443 ASC NULLS FIRST], false, 0\n",
      "      +- Exchange hashpartitioning(type#443, 200), ENSURE_REQUIREMENTS, [plan_id=820]\n",
      "         +- Project [name#439, pokedex id#440, height#441, weight#442, type#443, secundary type#444, (cast(hp#445 as double) + 1.0) AS hp#740, (cast(attack#446 as double) + 1.0) AS attack#753, (cast(defense#447 as double) + 1.0) AS defense#766, (cast(sp atk#448 as double) + 1.0) AS sp atk#779, (cast(sp def#449 as double) + 1.0) AS sp def#792, (cast(speed#450 as double) + 1.0) AS speed#805]\n",
      "            +- FileScan csv [name#439,pokedex id#440,height#441,weight#442,type#443,secundary type#444,hp#445,attack#446,defense#447,sp atk#448,sp def#449,speed#450] Batched: false, DataFilters: [], Format: CSV, Location: InMemoryFileIndex(1 paths)[file:/C:/Users/Катюня/PycharmProjects/Streaming/Pokemon_full.csv], PartitionFilters: [], PushedFilters: [], ReadSchema: struct<name:string,pokedex id:string,height:string,weight:string,type:string,secundary type:strin...\n",
      "\n"
     ]
    }
   ],
   "source": [
    "result.explain(True)"
   ]
  },
  {
   "cell_type": "code",
   "execution_count": 88,
   "id": "ea8dfc7e",
   "metadata": {},
   "outputs": [
    {
     "name": "stdout",
     "output_type": "stream",
     "text": [
      "== Parsed Logical Plan ==\n",
      "'Project [name#439, pokedex id#440, height#441, weight#442, type#443, secundary type#444, hp#740, attack#753, defense#766, sp atk#779, sp def#792, speed#805, count(1) windowspecdefinition('type, unspecifiedframe$()) AS type_count#983]\n",
      "+- LogicalRDD [name#439, pokedex id#440, height#441, weight#442, type#443, secundary type#444, hp#740, attack#753, defense#766, sp atk#779, sp def#792, speed#805], false\n",
      "\n",
      "== Analyzed Logical Plan ==\n",
      "name: string, pokedex id: string, height: string, weight: string, type: string, secundary type: string, hp: double, attack: double, defense: double, sp atk: double, sp def: double, speed: double, type_count: bigint\n",
      "Project [name#439, pokedex id#440, height#441, weight#442, type#443, secundary type#444, hp#740, attack#753, defense#766, sp atk#779, sp def#792, speed#805, type_count#983L]\n",
      "+- Project [name#439, pokedex id#440, height#441, weight#442, type#443, secundary type#444, hp#740, attack#753, defense#766, sp atk#779, sp def#792, speed#805, type_count#983L, type_count#983L]\n",
      "   +- Window [count(1) windowspecdefinition(type#443, specifiedwindowframe(RowFrame, unboundedpreceding$(), unboundedfollowing$())) AS type_count#983L], [type#443]\n",
      "      +- Project [name#439, pokedex id#440, height#441, weight#442, type#443, secundary type#444, hp#740, attack#753, defense#766, sp atk#779, sp def#792, speed#805]\n",
      "         +- LogicalRDD [name#439, pokedex id#440, height#441, weight#442, type#443, secundary type#444, hp#740, attack#753, defense#766, sp atk#779, sp def#792, speed#805], false\n",
      "\n",
      "== Optimized Logical Plan ==\n",
      "Window [count(1) windowspecdefinition(type#443, specifiedwindowframe(RowFrame, unboundedpreceding$(), unboundedfollowing$())) AS type_count#983L], [type#443]\n",
      "+- LogicalRDD [name#439, pokedex id#440, height#441, weight#442, type#443, secundary type#444, hp#740, attack#753, defense#766, sp atk#779, sp def#792, speed#805], false\n",
      "\n",
      "== Physical Plan ==\n",
      "AdaptiveSparkPlan isFinalPlan=false\n",
      "+- Window [count(1) windowspecdefinition(type#443, specifiedwindowframe(RowFrame, unboundedpreceding$(), unboundedfollowing$())) AS type_count#983L], [type#443]\n",
      "   +- Sort [type#443 ASC NULLS FIRST], false, 0\n",
      "      +- Exchange hashpartitioning(type#443, 200), ENSURE_REQUIREMENTS, [plan_id=831]\n",
      "         +- Scan ExistingRDD[name#439,pokedex id#440,height#441,weight#442,type#443,secundary type#444,hp#740,attack#753,defense#766,sp atk#779,sp def#792,speed#805]\n",
      "\n"
     ]
    }
   ],
   "source": [
    "result_from_cp.explain(True)"
   ]
  },
  {
   "cell_type": "code",
   "execution_count": 96,
   "id": "7e45f029",
   "metadata": {},
   "outputs": [
    {
     "name": "stdout",
     "output_type": "stream",
     "text": [
      "== Physical Plan ==\n",
      "AdaptiveSparkPlan isFinalPlan=false\n",
      "+- Project [type#443, name#439, pokedex id#440, height#441, weight#442, secundary type#444, hp#740, attack#753, defense#766, sp atk#779, sp def#792, speed#805, type_count#983L, count#737L]\n",
      "   +- BroadcastHashJoin [type#443], [type#1314], Inner, BuildRight, false\n",
      "      :- Window [count(1) windowspecdefinition(type#443, specifiedwindowframe(RowFrame, unboundedpreceding$(), unboundedfollowing$())) AS type_count#983L], [type#443]\n",
      "      :  +- Sort [type#443 ASC NULLS FIRST], false, 0\n",
      "      :     +- Exchange hashpartitioning(type#443, 200), ENSURE_REQUIREMENTS, [plan_id=1475]\n",
      "      :        +- Filter isnotnull(type#443)\n",
      "      :           +- Scan ExistingRDD[name#439,pokedex id#440,height#441,weight#442,type#443,secundary type#444,hp#740,attack#753,defense#766,sp atk#779,sp def#792,speed#805]\n",
      "      +- BroadcastExchange HashedRelationBroadcastMode(List(input[0, string, true]),false), [plan_id=1481]\n",
      "         +- HashAggregate(keys=[type#1314], functions=[count(1)])\n",
      "            +- Exchange hashpartitioning(type#1314, 200), ENSURE_REQUIREMENTS, [plan_id=1478]\n",
      "               +- HashAggregate(keys=[type#1314], functions=[partial_count(1)])\n",
      "                  +- Filter isnotnull(type#1314)\n",
      "                     +- FileScan csv [type#1314] Batched: false, DataFilters: [isnotnull(type#1314)], Format: CSV, Location: InMemoryFileIndex(1 paths)[file:/C:/Users/Катюня/PycharmProjects/Streaming/Pokemon_full.csv], PartitionFilters: [], PushedFilters: [IsNotNull(type)], ReadSchema: struct<type:string>\n",
      "\n",
      "\n"
     ]
    }
   ],
   "source": [
    "result_from_cp.join(df_agg, on = 'type').explain(False)"
   ]
  },
  {
   "cell_type": "code",
   "execution_count": 97,
   "id": "11a15004",
   "metadata": {},
   "outputs": [
    {
     "name": "stdout",
     "output_type": "stream",
     "text": [
      "== Physical Plan ==\n",
      "AdaptiveSparkPlan isFinalPlan=false\n",
      "+- BroadcastNestedLoopJoin BuildRight, Inner\n",
      "   :- Window [count(1) windowspecdefinition(type#443, specifiedwindowframe(RowFrame, unboundedpreceding$(), unboundedfollowing$())) AS type_count#983L], [type#443]\n",
      "   :  +- Sort [type#443 ASC NULLS FIRST], false, 0\n",
      "   :     +- Exchange hashpartitioning(type#443, 200), ENSURE_REQUIREMENTS, [plan_id=1507]\n",
      "   :        +- Scan ExistingRDD[name#439,pokedex id#440,height#441,weight#442,type#443,secundary type#444,hp#740,attack#753,defense#766,sp atk#779,sp def#792,speed#805]\n",
      "   +- BroadcastExchange IdentityBroadcastMode, [plan_id=1513]\n",
      "      +- HashAggregate(keys=[type#1340], functions=[count(1)])\n",
      "         +- Exchange hashpartitioning(type#1340, 200), ENSURE_REQUIREMENTS, [plan_id=1510]\n",
      "            +- HashAggregate(keys=[type#1340], functions=[partial_count(1)])\n",
      "               +- FileScan csv [type#1340] Batched: false, DataFilters: [], Format: CSV, Location: InMemoryFileIndex(1 paths)[file:/C:/Users/Катюня/PycharmProjects/Streaming/Pokemon_full.csv], PartitionFilters: [], PushedFilters: [], ReadSchema: struct<type:string>\n",
      "\n",
      "\n"
     ]
    }
   ],
   "source": [
    "result_from_cp.join(df_agg).explain(False)"
   ]
  },
  {
   "cell_type": "code",
   "execution_count": 100,
   "id": "33d99fbc",
   "metadata": {},
   "outputs": [
    {
     "name": "stdout",
     "output_type": "stream",
     "text": [
      "== Physical Plan ==\n",
      "AdaptiveSparkPlan isFinalPlan=false\n",
      "+- BroadcastNestedLoopJoin BuildRight, Inner\n",
      "   :- Window [count(1) windowspecdefinition(type#443, specifiedwindowframe(RowFrame, unboundedpreceding$(), unboundedfollowing$())) AS type_count#983L], [type#443]\n",
      "   :  +- Sort [type#443 ASC NULLS FIRST], false, 0\n",
      "   :     +- Exchange hashpartitioning(type#443, 200), ENSURE_REQUIREMENTS, [plan_id=1593]\n",
      "   :        +- Scan ExistingRDD[name#439,pokedex id#440,height#441,weight#442,type#443,secundary type#444,hp#740,attack#753,defense#766,sp atk#779,sp def#792,speed#805]\n",
      "   +- BroadcastExchange IdentityBroadcastMode, [plan_id=1599]\n",
      "      +- HashAggregate(keys=[type#1393], functions=[count(1)])\n",
      "         +- Exchange hashpartitioning(type#1393, 200), ENSURE_REQUIREMENTS, [plan_id=1596]\n",
      "            +- HashAggregate(keys=[type#1393], functions=[partial_count(1)])\n",
      "               +- Filter (isnotnull(type#1393) AND (type#1393 = bug))\n",
      "                  +- FileScan csv [type#1393] Batched: false, DataFilters: [isnotnull(type#1393), (type#1393 = bug)], Format: CSV, Location: InMemoryFileIndex(1 paths)[file:/C:/Users/Катюня/PycharmProjects/Streaming/Pokemon_full.csv], PartitionFilters: [], PushedFilters: [IsNotNull(type), EqualTo(type,bug)], ReadSchema: struct<type:string>\n",
      "\n",
      "\n"
     ]
    }
   ],
   "source": [
    "result_from_cp.join(df_agg.filter('type = \"bug\"')).explain(False)"
   ]
  },
  {
   "cell_type": "code",
   "execution_count": 93,
   "id": "017f504e",
   "metadata": {},
   "outputs": [
    {
     "name": "stdout",
     "output_type": "stream",
     "text": [
      "+--------+----------+------+------+----+--------------+----+------+-------+------+------+-----+----------+--------+-----+\n",
      "|    name|pokedex id|height|weight|type|secundary type|  hp|attack|defense|sp atk|sp def|speed|type_count|    type|count|\n",
      "+--------+----------+------+------+----+--------------+----+------+-------+------+------+-----+----------+--------+-----+\n",
      "|caterpie|        10|     3|    29| bug|          None|46.0|  31.0|   36.0|  21.0|  21.0| 46.0|        75|     bug|   75|\n",
      "|caterpie|        10|     3|    29| bug|          None|46.0|  31.0|   36.0|  21.0|  21.0| 46.0|        75|  normal|  109|\n",
      "|caterpie|        10|     3|    29| bug|          None|46.0|  31.0|   36.0|  21.0|  21.0| 46.0|        75|   ghost|   30|\n",
      "|caterpie|        10|     3|    29| bug|          None|46.0|  31.0|   36.0|  21.0|  21.0| 46.0|        75|   grass|   86|\n",
      "|caterpie|        10|     3|    29| bug|          None|46.0|  31.0|   36.0|  21.0|  21.0| 46.0|        75|   steel|   30|\n",
      "|caterpie|        10|     3|    29| bug|          None|46.0|  31.0|   36.0|  21.0|  21.0| 46.0|        75|     ice|   27|\n",
      "|caterpie|        10|     3|    29| bug|          None|46.0|  31.0|   36.0|  21.0|  21.0| 46.0|        75|   water|  123|\n",
      "|caterpie|        10|     3|    29| bug|          None|46.0|  31.0|   36.0|  21.0|  21.0| 46.0|        75|  ground|   35|\n",
      "|caterpie|        10|     3|    29| bug|          None|46.0|  31.0|   36.0|  21.0|  21.0| 46.0|        75|  flying|    7|\n",
      "|caterpie|        10|     3|    29| bug|          None|46.0|  31.0|   36.0|  21.0|  21.0| 46.0|        75|   fairy|   21|\n",
      "|caterpie|        10|     3|    29| bug|          None|46.0|  31.0|   36.0|  21.0|  21.0| 46.0|        75|    dark|   35|\n",
      "|caterpie|        10|     3|    29| bug|          None|46.0|  31.0|   36.0|  21.0|  21.0| 46.0|        75|fighting|   34|\n",
      "|caterpie|        10|     3|    29| bug|          None|46.0|  31.0|   36.0|  21.0|  21.0| 46.0|        75|  dragon|   30|\n",
      "|caterpie|        10|     3|    29| bug|          None|46.0|  31.0|   36.0|  21.0|  21.0| 46.0|        75|  poison|   35|\n",
      "|caterpie|        10|     3|    29| bug|          None|46.0|  31.0|   36.0|  21.0|  21.0| 46.0|        75| psychic|   57|\n",
      "|caterpie|        10|     3|    29| bug|          None|46.0|  31.0|   36.0|  21.0|  21.0| 46.0|        75|    rock|   50|\n",
      "|caterpie|        10|     3|    29| bug|          None|46.0|  31.0|   36.0|  21.0|  21.0| 46.0|        75|electric|   48|\n",
      "|caterpie|        10|     3|    29| bug|          None|46.0|  31.0|   36.0|  21.0|  21.0| 46.0|        75|    fire|   58|\n",
      "| metapod|        11|     7|    99| bug|          None|51.0|  21.0|   56.0|  26.0|  26.0| 31.0|        75|     bug|   75|\n",
      "| metapod|        11|     7|    99| bug|          None|51.0|  21.0|   56.0|  26.0|  26.0| 31.0|        75|  normal|  109|\n",
      "+--------+----------+------+------+----+--------------+----+------+-------+------+------+-----+----------+--------+-----+\n",
      "only showing top 20 rows\n",
      "\n"
     ]
    }
   ],
   "source": [
    "result_from_cp.join(df_agg).show()"
   ]
  },
  {
   "cell_type": "code",
   "execution_count": 43,
   "id": "95c60d4d",
   "metadata": {},
   "outputs": [
    {
     "name": "stdout",
     "output_type": "stream",
     "text": [
      "== Parsed Logical Plan ==\n",
      "'Project [name#56, pokedex id#57, height#58, weight#59, type#60, secundary type#61, hp#345, attack#358, defense#371, sp atk#384, sp def#397, ('speed + 1) AS speed#410]\n",
      "+- Project [name#56, pokedex id#57, height#58, weight#59, type#60, secundary type#61, hp#345, attack#358, defense#371, sp atk#384, (cast(sp def#66 as double) + cast(1 as double)) AS sp def#397, speed#67]\n",
      "   +- Project [name#56, pokedex id#57, height#58, weight#59, type#60, secundary type#61, hp#345, attack#358, defense#371, (cast(sp atk#65 as double) + cast(1 as double)) AS sp atk#384, sp def#66, speed#67]\n",
      "      +- Project [name#56, pokedex id#57, height#58, weight#59, type#60, secundary type#61, hp#345, attack#358, (cast(defense#64 as double) + cast(1 as double)) AS defense#371, sp atk#65, sp def#66, speed#67]\n",
      "         +- Project [name#56, pokedex id#57, height#58, weight#59, type#60, secundary type#61, hp#345, (cast(attack#63 as double) + cast(1 as double)) AS attack#358, defense#64, sp atk#65, sp def#66, speed#67]\n",
      "            +- Project [name#56, pokedex id#57, height#58, weight#59, type#60, secundary type#61, (cast(hp#62 as double) + cast(1 as double)) AS hp#345, attack#63, defense#64, sp atk#65, sp def#66, speed#67]\n",
      "               +- Relation [name#56,pokedex id#57,height#58,weight#59,type#60,secundary type#61,hp#62,attack#63,defense#64,sp atk#65,sp def#66,speed#67] csv\n",
      "\n",
      "== Analyzed Logical Plan ==\n",
      "name: string, pokedex id: string, height: string, weight: string, type: string, secundary type: string, hp: double, attack: double, defense: double, sp atk: double, sp def: double, speed: double\n",
      "Project [name#56, pokedex id#57, height#58, weight#59, type#60, secundary type#61, hp#345, attack#358, defense#371, sp atk#384, sp def#397, (cast(speed#67 as double) + cast(1 as double)) AS speed#410]\n",
      "+- Project [name#56, pokedex id#57, height#58, weight#59, type#60, secundary type#61, hp#345, attack#358, defense#371, sp atk#384, (cast(sp def#66 as double) + cast(1 as double)) AS sp def#397, speed#67]\n",
      "   +- Project [name#56, pokedex id#57, height#58, weight#59, type#60, secundary type#61, hp#345, attack#358, defense#371, (cast(sp atk#65 as double) + cast(1 as double)) AS sp atk#384, sp def#66, speed#67]\n",
      "      +- Project [name#56, pokedex id#57, height#58, weight#59, type#60, secundary type#61, hp#345, attack#358, (cast(defense#64 as double) + cast(1 as double)) AS defense#371, sp atk#65, sp def#66, speed#67]\n",
      "         +- Project [name#56, pokedex id#57, height#58, weight#59, type#60, secundary type#61, hp#345, (cast(attack#63 as double) + cast(1 as double)) AS attack#358, defense#64, sp atk#65, sp def#66, speed#67]\n",
      "            +- Project [name#56, pokedex id#57, height#58, weight#59, type#60, secundary type#61, (cast(hp#62 as double) + cast(1 as double)) AS hp#345, attack#63, defense#64, sp atk#65, sp def#66, speed#67]\n",
      "               +- Relation [name#56,pokedex id#57,height#58,weight#59,type#60,secundary type#61,hp#62,attack#63,defense#64,sp atk#65,sp def#66,speed#67] csv\n",
      "\n",
      "== Optimized Logical Plan ==\n",
      "Project [name#56, pokedex id#57, height#58, weight#59, type#60, secundary type#61, (cast(hp#62 as double) + 1.0) AS hp#345, (cast(attack#63 as double) + 1.0) AS attack#358, (cast(defense#64 as double) + 1.0) AS defense#371, (cast(sp atk#65 as double) + 1.0) AS sp atk#384, (cast(sp def#66 as double) + 1.0) AS sp def#397, (cast(speed#67 as double) + 1.0) AS speed#410]\n",
      "+- Relation [name#56,pokedex id#57,height#58,weight#59,type#60,secundary type#61,hp#62,attack#63,defense#64,sp atk#65,sp def#66,speed#67] csv\n",
      "\n",
      "== Physical Plan ==\n",
      "*(1) Project [name#56, pokedex id#57, height#58, weight#59, type#60, secundary type#61, (cast(hp#62 as double) + 1.0) AS hp#345, (cast(attack#63 as double) + 1.0) AS attack#358, (cast(defense#64 as double) + 1.0) AS defense#371, (cast(sp atk#65 as double) + 1.0) AS sp atk#384, (cast(sp def#66 as double) + 1.0) AS sp def#397, (cast(speed#67 as double) + 1.0) AS speed#410]\n",
      "+- FileScan csv [name#56,pokedex id#57,height#58,weight#59,type#60,secundary type#61,hp#62,attack#63,defense#64,sp atk#65,sp def#66,speed#67] Batched: false, DataFilters: [], Format: CSV, Location: InMemoryFileIndex(1 paths)[file:/C:/Users/Катюня/PycharmProjects/Streaming/Pokemon_full.csv], PartitionFilters: [], PushedFilters: [], ReadSchema: struct<name:string,pokedex id:string,height:string,weight:string,type:string,secundary type:strin...\n",
      "\n"
     ]
    }
   ],
   "source": [
    "df.explain(True)"
   ]
  },
  {
   "cell_type": "code",
   "execution_count": 109,
   "id": "706ac05e",
   "metadata": {},
   "outputs": [
    {
     "data": {
      "text/plain": [
       "['._SUCCESS.crc',\n",
       " 'type=bug',\n",
       " 'type=dark',\n",
       " 'type=dragon',\n",
       " 'type=dragon_new',\n",
       " 'type=electric',\n",
       " 'type=fairy',\n",
       " 'type=fairy_new',\n",
       " 'type=fighting',\n",
       " 'type=fire',\n",
       " 'type=fire_new',\n",
       " 'type=flying',\n",
       " 'type=ghost',\n",
       " 'type=grass',\n",
       " 'type=grass_new',\n",
       " 'type=ground',\n",
       " 'type=ice',\n",
       " 'type=normal',\n",
       " 'type=poison',\n",
       " 'type=psychic',\n",
       " 'type=rock',\n",
       " 'type=steel',\n",
       " 'type=water',\n",
       " '_SUCCESS']"
      ]
     },
     "execution_count": 109,
     "metadata": {},
     "output_type": "execute_result"
    }
   ],
   "source": [
    "os.listdir('spark-warehouse/pokemon')\n",
    "\n"
   ]
  },
  {
   "cell_type": "code",
   "execution_count": 136,
   "id": "6cdc1707",
   "metadata": {},
   "outputs": [
    {
     "name": "stdout",
     "output_type": "stream",
     "text": [
      "== Physical Plan ==\n",
      "AdaptiveSparkPlan isFinalPlan=false\n",
      "+- Exchange hashpartitioning(type#443, 10), REPARTITION_BY_NUM, [plan_id=2934]\n",
      "   +- Window [count(1) windowspecdefinition(type#443, specifiedwindowframe(RowFrame, unboundedpreceding$(), unboundedfollowing$())) AS type_count#983L], [type#443]\n",
      "      +- Sort [type#443 ASC NULLS FIRST], false, 0\n",
      "         +- Exchange hashpartitioning(type#443, 200), ENSURE_REQUIREMENTS, [plan_id=2931]\n",
      "            +- Scan ExistingRDD[name#439,pokedex id#440,height#441,weight#442,type#443,secundary type#444,hp#740,attack#753,defense#766,sp atk#779,sp def#792,speed#805]\n",
      "\n",
      "\n"
     ]
    }
   ],
   "source": [
    "result_from_cp.repartition(10, F.col(\"type\")).explain()"
   ]
  },
  {
   "cell_type": "code",
   "execution_count": null,
   "id": "e648cdfd",
   "metadata": {},
   "outputs": [],
   "source": [
    "result_from_cp.repartition(10, F.col(\"type\")).explain()"
   ]
  },
  {
   "cell_type": "code",
   "execution_count": 132,
   "id": "0dc623ba",
   "metadata": {},
   "outputs": [
    {
     "name": "stdout",
     "output_type": "stream",
     "text": [
      ".part-00000-0037ab89-ef82-4a60-935e-b0ff108a2e71-c000.snappy.parquet.crc\n",
      "._SUCCESS.crc\n",
      "part-00000-0037ab89-ef82-4a60-935e-b0ff108a2e71-c000.snappy.parquet\n",
      "_SUCCESS \n",
      "\n",
      "\n",
      "== Physical Plan ==\n",
      "AdaptiveSparkPlan isFinalPlan=false\n",
      "+- Sort [sum_hp#1912 ASC NULLS FIRST], true, 0\n",
      "   +- Exchange rangepartitioning(sum_hp#1912 ASC NULLS FIRST, 200), ENSURE_REQUIREMENTS, [plan_id=2758]\n",
      "      +- Exchange RoundRobinPartitioning(10), REPARTITION_BY_NUM, [plan_id=2756]\n",
      "         +- HashAggregate(keys=[type#443], functions=[sum(hp#740)])\n",
      "            +- Exchange hashpartitioning(type#443, 200), ENSURE_REQUIREMENTS, [plan_id=2754]\n",
      "               +- HashAggregate(keys=[type#443], functions=[partial_sum(hp#740)])\n",
      "                  +- Project [type#443, hp#740]\n",
      "                     +- Scan ExistingRDD[name#439,pokedex id#440,height#441,weight#442,type#443,secundary type#444,hp#740,attack#753,defense#766,sp atk#779,sp def#792,speed#805]\n",
      "\n",
      "\n"
     ]
    }
   ],
   "source": [
    "result_hp = result_from_cp.groupBy('type').agg(F.sum('hp').alias('sum_hp')).repartition(10).orderBy('sum_hp')\n",
    "result_hp.write.mode(\"ignore\").parquet(\"spark-warehouse/out_1\")\n",
    "print('\\n'.join(os.listdir(\"spark-warehouse/out_1\")), \"\\n\\n\")\n",
    "\n",
    "result_hp.explain()"
   ]
  },
  {
   "cell_type": "code",
   "execution_count": 133,
   "id": "285040e5",
   "metadata": {},
   "outputs": [
    {
     "name": "stdout",
     "output_type": "stream",
     "text": [
      ".part-00000-e603b258-462e-47ef-864b-0378ec3043e2-c000.snappy.parquet.crc\n",
      ".part-00001-e603b258-462e-47ef-864b-0378ec3043e2-c000.snappy.parquet.crc\n",
      ".part-00002-e603b258-462e-47ef-864b-0378ec3043e2-c000.snappy.parquet.crc\n",
      ".part-00003-e603b258-462e-47ef-864b-0378ec3043e2-c000.snappy.parquet.crc\n",
      ".part-00004-e603b258-462e-47ef-864b-0378ec3043e2-c000.snappy.parquet.crc\n",
      ".part-00005-e603b258-462e-47ef-864b-0378ec3043e2-c000.snappy.parquet.crc\n",
      ".part-00006-e603b258-462e-47ef-864b-0378ec3043e2-c000.snappy.parquet.crc\n",
      ".part-00007-e603b258-462e-47ef-864b-0378ec3043e2-c000.snappy.parquet.crc\n",
      ".part-00008-e603b258-462e-47ef-864b-0378ec3043e2-c000.snappy.parquet.crc\n",
      ".part-00009-e603b258-462e-47ef-864b-0378ec3043e2-c000.snappy.parquet.crc\n",
      "._SUCCESS.crc\n",
      "part-00000-e603b258-462e-47ef-864b-0378ec3043e2-c000.snappy.parquet\n",
      "part-00001-e603b258-462e-47ef-864b-0378ec3043e2-c000.snappy.parquet\n",
      "part-00002-e603b258-462e-47ef-864b-0378ec3043e2-c000.snappy.parquet\n",
      "part-00003-e603b258-462e-47ef-864b-0378ec3043e2-c000.snappy.parquet\n",
      "part-00004-e603b258-462e-47ef-864b-0378ec3043e2-c000.snappy.parquet\n",
      "part-00005-e603b258-462e-47ef-864b-0378ec3043e2-c000.snappy.parquet\n",
      "part-00006-e603b258-462e-47ef-864b-0378ec3043e2-c000.snappy.parquet\n",
      "part-00007-e603b258-462e-47ef-864b-0378ec3043e2-c000.snappy.parquet\n",
      "part-00008-e603b258-462e-47ef-864b-0378ec3043e2-c000.snappy.parquet\n",
      "part-00009-e603b258-462e-47ef-864b-0378ec3043e2-c000.snappy.parquet\n",
      "_SUCCESS \n",
      "\n",
      "\n",
      "== Physical Plan ==\n",
      "AdaptiveSparkPlan isFinalPlan=false\n",
      "+- Exchange RoundRobinPartitioning(10), REPARTITION_BY_NUM, [plan_id=2808]\n",
      "   +- HashAggregate(keys=[type#443], functions=[sum(hp#740)])\n",
      "      +- Exchange hashpartitioning(type#443, 200), ENSURE_REQUIREMENTS, [plan_id=2806]\n",
      "         +- HashAggregate(keys=[type#443], functions=[partial_sum(hp#740)])\n",
      "            +- Project [type#443, hp#740]\n",
      "               +- Scan ExistingRDD[name#439,pokedex id#440,height#441,weight#442,type#443,secundary type#444,hp#740,attack#753,defense#766,sp atk#779,sp def#792,speed#805]\n",
      "\n",
      "\n"
     ]
    }
   ],
   "source": [
    "result_hp = result_from_cp.groupBy('type').agg(F.sum('hp').alias('sum_hp')).repartition(10)#.orderBy('sum_hp')\n",
    "result_hp.write.mode(\"ignore\").parquet(\"spark-warehouse/out_2\")\n",
    "print('\\n'.join(os.listdir(\"spark-warehouse/out_2\")), \"\\n\\n\")\n",
    "\n",
    "result_hp.explain()"
   ]
  },
  {
   "cell_type": "code",
   "execution_count": 134,
   "id": "30ca7a5e",
   "metadata": {},
   "outputs": [
    {
     "name": "stdout",
     "output_type": "stream",
     "text": [
      ".part-00000-8fde3ba0-d535-4b60-ada0-b134a8745500-c000.snappy.parquet.crc\n",
      ".part-00001-8fde3ba0-d535-4b60-ada0-b134a8745500-c000.snappy.parquet.crc\n",
      ".part-00002-8fde3ba0-d535-4b60-ada0-b134a8745500-c000.snappy.parquet.crc\n",
      ".part-00003-8fde3ba0-d535-4b60-ada0-b134a8745500-c000.snappy.parquet.crc\n",
      ".part-00004-8fde3ba0-d535-4b60-ada0-b134a8745500-c000.snappy.parquet.crc\n",
      ".part-00005-8fde3ba0-d535-4b60-ada0-b134a8745500-c000.snappy.parquet.crc\n",
      ".part-00006-8fde3ba0-d535-4b60-ada0-b134a8745500-c000.snappy.parquet.crc\n",
      ".part-00007-8fde3ba0-d535-4b60-ada0-b134a8745500-c000.snappy.parquet.crc\n",
      ".part-00008-8fde3ba0-d535-4b60-ada0-b134a8745500-c000.snappy.parquet.crc\n",
      ".part-00009-8fde3ba0-d535-4b60-ada0-b134a8745500-c000.snappy.parquet.crc\n",
      "._SUCCESS.crc\n",
      "part-00000-8fde3ba0-d535-4b60-ada0-b134a8745500-c000.snappy.parquet\n",
      "part-00001-8fde3ba0-d535-4b60-ada0-b134a8745500-c000.snappy.parquet\n",
      "part-00002-8fde3ba0-d535-4b60-ada0-b134a8745500-c000.snappy.parquet\n",
      "part-00003-8fde3ba0-d535-4b60-ada0-b134a8745500-c000.snappy.parquet\n",
      "part-00004-8fde3ba0-d535-4b60-ada0-b134a8745500-c000.snappy.parquet\n",
      "part-00005-8fde3ba0-d535-4b60-ada0-b134a8745500-c000.snappy.parquet\n",
      "part-00006-8fde3ba0-d535-4b60-ada0-b134a8745500-c000.snappy.parquet\n",
      "part-00007-8fde3ba0-d535-4b60-ada0-b134a8745500-c000.snappy.parquet\n",
      "part-00008-8fde3ba0-d535-4b60-ada0-b134a8745500-c000.snappy.parquet\n",
      "part-00009-8fde3ba0-d535-4b60-ada0-b134a8745500-c000.snappy.parquet\n",
      "_SUCCESS \n",
      "\n",
      "\n",
      "== Physical Plan ==\n",
      "AdaptiveSparkPlan isFinalPlan=false\n",
      "+- Sort [sum_hp#1954 ASC NULLS FIRST], false, 0\n",
      "   +- Exchange RoundRobinPartitioning(10), REPARTITION_BY_NUM, [plan_id=2917]\n",
      "      +- HashAggregate(keys=[type#443], functions=[sum(hp#740)])\n",
      "         +- Exchange hashpartitioning(type#443, 200), ENSURE_REQUIREMENTS, [plan_id=2915]\n",
      "            +- HashAggregate(keys=[type#443], functions=[partial_sum(hp#740)])\n",
      "               +- Project [type#443, hp#740]\n",
      "                  +- Scan ExistingRDD[name#439,pokedex id#440,height#441,weight#442,type#443,secundary type#444,hp#740,attack#753,defense#766,sp atk#779,sp def#792,speed#805]\n",
      "\n",
      "\n"
     ]
    }
   ],
   "source": [
    "result_hp = result_from_cp.groupBy('type').agg(F.sum('hp').alias('sum_hp')).repartition(10).sortWithinPartitions('sum_hp')\n",
    "result_hp.write.mode(\"overwrite\").parquet(\"spark-warehouse/out_3\")\n",
    "print('\\n'.join(os.listdir(\"spark-warehouse/out_3\")), \"\\n\\n\")\n",
    "\n",
    "result_hp.explain()"
   ]
  },
  {
   "cell_type": "code",
   "execution_count": 162,
   "id": "0d73af19",
   "metadata": {},
   "outputs": [],
   "source": [
    "result_hp = result_from_cp.withColumn('hp100', (F.col('hp')/100).cast('int')).repartition(3,'hp')\n"
   ]
  },
  {
   "cell_type": "code",
   "execution_count": 163,
   "id": "016504e1",
   "metadata": {},
   "outputs": [
    {
     "name": "stdout",
     "output_type": "stream",
     "text": [
      "+-----------+-----+\n",
      "|partitionId|count|\n",
      "+-----------+-----+\n",
      "|          0|  460|\n",
      "|          1|  270|\n",
      "|          2|  160|\n",
      "+-----------+-----+\n",
      "\n"
     ]
    }
   ],
   "source": [
    "from pyspark.sql.functions  import spark_partition_id\n",
    "result_hp.withColumn(\"partitionId\", spark_partition_id()).groupBy(\"partitionId\").count().show()"
   ]
  },
  {
   "cell_type": "code",
   "execution_count": 164,
   "id": "adf0224e",
   "metadata": {},
   "outputs": [
    {
     "name": "stdout",
     "output_type": "stream",
     "text": [
      "+-----------+-----+\n",
      "|partitionId|count|\n",
      "+-----------+-----+\n",
      "|          0|  178|\n",
      "|          1|  178|\n",
      "|          2|  178|\n",
      "|          3|  178|\n",
      "|          4|  178|\n",
      "+-----------+-----+\n",
      "\n"
     ]
    }
   ],
   "source": [
    "result_rep = result_hp.repartition(5)\n",
    "result_rep.withColumn(\"partitionId\", spark_partition_id()).groupBy(\"partitionId\").count().show()"
   ]
  },
  {
   "cell_type": "code",
   "execution_count": 166,
   "id": "59223a45",
   "metadata": {},
   "outputs": [
    {
     "name": "stdout",
     "output_type": "stream",
     "text": [
      "+-----------+-----+\n",
      "|partitionId|count|\n",
      "+-----------+-----+\n",
      "|          0|   28|\n",
      "|          1|  219|\n",
      "|          2|   34|\n",
      "|          3|   27|\n",
      "|          4|  151|\n",
      "|          5|  158|\n",
      "|          6|  185|\n",
      "|          7|   88|\n",
      "+-----------+-----+\n",
      "\n"
     ]
    }
   ],
   "source": [
    "result_rep = result_hp.repartition(8, 'type')\n",
    "result_rep.withColumn(\"partitionId\", spark_partition_id()).groupBy(\"partitionId\").count().show()"
   ]
  },
  {
   "cell_type": "code",
   "execution_count": null,
   "id": "70a8e917",
   "metadata": {},
   "outputs": [],
   "source": []
  }
 ],
 "metadata": {
  "kernelspec": {
   "display_name": "Python 3 (ipykernel)",
   "language": "python",
   "name": "python3"
  },
  "language_info": {
   "codemirror_mode": {
    "name": "ipython",
    "version": 3
   },
   "file_extension": ".py",
   "mimetype": "text/x-python",
   "name": "python",
   "nbconvert_exporter": "python",
   "pygments_lexer": "ipython3",
   "version": "3.8.17"
  }
 },
 "nbformat": 4,
 "nbformat_minor": 5
}
